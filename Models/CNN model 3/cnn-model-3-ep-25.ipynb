{
 "cells": [
  {
   "cell_type": "code",
   "execution_count": 1,
   "metadata": {
    "execution": {
     "iopub.execute_input": "2021-09-06T10:43:29.531629Z",
     "iopub.status.busy": "2021-09-06T10:43:29.531274Z",
     "iopub.status.idle": "2021-09-06T10:43:29.544432Z",
     "shell.execute_reply": "2021-09-06T10:43:29.543504Z",
     "shell.execute_reply.started": "2021-09-06T10:43:29.531556Z"
    }
   },
   "outputs": [],
   "source": [
    "import os"
   ]
  },
  {
   "cell_type": "code",
   "execution_count": 2,
   "metadata": {
    "execution": {
     "iopub.execute_input": "2021-09-06T10:43:29.546545Z",
     "iopub.status.busy": "2021-09-06T10:43:29.546150Z",
     "iopub.status.idle": "2021-09-06T10:43:29.556563Z",
     "shell.execute_reply": "2021-09-06T10:43:29.555759Z",
     "shell.execute_reply.started": "2021-09-06T10:43:29.546508Z"
    }
   },
   "outputs": [],
   "source": [
    "path = \"../input/leavescolour/Plant_leave_diseases_dataset_with_augmentation/\""
   ]
  },
  {
   "cell_type": "code",
   "execution_count": 3,
   "metadata": {
    "execution": {
     "iopub.execute_input": "2021-09-06T10:43:29.559363Z",
     "iopub.status.busy": "2021-09-06T10:43:29.558536Z",
     "iopub.status.idle": "2021-09-06T10:43:29.629714Z",
     "shell.execute_reply": "2021-09-06T10:43:29.628950Z",
     "shell.execute_reply.started": "2021-09-06T10:43:29.559266Z"
    }
   },
   "outputs": [],
   "source": [
    "labels =os.listdir(path)"
   ]
  },
  {
   "cell_type": "code",
   "execution_count": 4,
   "metadata": {
    "execution": {
     "iopub.execute_input": "2021-09-06T10:43:29.631638Z",
     "iopub.status.busy": "2021-09-06T10:43:29.631281Z",
     "iopub.status.idle": "2021-09-06T10:43:48.462459Z",
     "shell.execute_reply": "2021-09-06T10:43:48.461544Z",
     "shell.execute_reply.started": "2021-09-06T10:43:29.631601Z"
    }
   },
   "outputs": [],
   "source": [
    "d = {}\n",
    "for x in labels :\n",
    "    d[x] = len(os.listdir(path+'/'+ x))"
   ]
  },
  {
   "cell_type": "code",
   "execution_count": 5,
   "metadata": {
    "execution": {
     "iopub.execute_input": "2021-09-06T10:43:48.465956Z",
     "iopub.status.busy": "2021-09-06T10:43:48.465684Z",
     "iopub.status.idle": "2021-09-06T10:43:48.476516Z",
     "shell.execute_reply": "2021-09-06T10:43:48.475627Z",
     "shell.execute_reply.started": "2021-09-06T10:43:48.465929Z"
    }
   },
   "outputs": [
    {
     "data": {
      "text/plain": [
       "39"
      ]
     },
     "execution_count": 5,
     "metadata": {},
     "output_type": "execute_result"
    }
   ],
   "source": [
    "len(d)"
   ]
  },
  {
   "cell_type": "code",
   "execution_count": 6,
   "metadata": {
    "execution": {
     "iopub.execute_input": "2021-09-06T10:43:48.478470Z",
     "iopub.status.busy": "2021-09-06T10:43:48.478040Z",
     "iopub.status.idle": "2021-09-06T10:43:48.489045Z",
     "shell.execute_reply": "2021-09-06T10:43:48.488131Z",
     "shell.execute_reply.started": "2021-09-06T10:43:48.478435Z"
    }
   },
   "outputs": [
    {
     "data": {
      "text/plain": [
       "{'Corn___Northern_Leaf_Blight': 1000,\n",
       " 'Tomato___Late_blight': 1909,\n",
       " 'Tomato___healthy': 1591,\n",
       " 'Grape___healthy': 1000,\n",
       " 'Orange___Haunglongbing_(Citrus_greening)': 5507,\n",
       " 'Soybean___healthy': 5090,\n",
       " 'Squash___Powdery_mildew': 1835,\n",
       " 'Background_without_leaves': 1143,\n",
       " 'Potato___healthy': 1000,\n",
       " 'Tomato___Early_blight': 1000,\n",
       " 'Tomato___Septoria_leaf_spot': 1771,\n",
       " 'Corn___healthy': 1162,\n",
       " 'Strawberry___Leaf_scorch': 1109,\n",
       " 'Peach___healthy': 1000,\n",
       " 'Apple___Apple_scab': 1000,\n",
       " 'Tomato___Tomato_Yellow_Leaf_Curl_Virus': 5357,\n",
       " 'Tomato___Bacterial_spot': 2127,\n",
       " 'Apple___Black_rot': 1000,\n",
       " 'Blueberry___healthy': 1502,\n",
       " 'Cherry___Powdery_mildew': 1052,\n",
       " 'Peach___Bacterial_spot': 2297,\n",
       " 'Apple___Cedar_apple_rust': 1000,\n",
       " 'Tomato___Target_Spot': 1404,\n",
       " 'Pepper,_bell___healthy': 1478,\n",
       " 'Grape___Leaf_blight_(Isariopsis_Leaf_Spot)': 1076,\n",
       " 'Potato___Late_blight': 1000,\n",
       " 'Corn___Cercospora_leaf_spot Gray_leaf_spot': 1000,\n",
       " 'Tomato___Tomato_mosaic_virus': 1000,\n",
       " 'Strawberry___healthy': 1000,\n",
       " 'Corn___Common_rust': 1192,\n",
       " 'Apple___healthy': 1645,\n",
       " 'Grape___Black_rot': 1180,\n",
       " 'Potato___Early_blight': 1000,\n",
       " 'Grape___Esca_(Black_Measles)': 1383,\n",
       " 'Raspberry___healthy': 1000,\n",
       " 'Tomato___Leaf_Mold': 1000,\n",
       " 'Cherry___healthy': 1000,\n",
       " 'Tomato___Spider_mites Two-spotted_spider_mite': 1676,\n",
       " 'Pepper,_bell___Bacterial_spot': 1000}"
      ]
     },
     "execution_count": 6,
     "metadata": {},
     "output_type": "execute_result"
    }
   ],
   "source": [
    "d"
   ]
  },
  {
   "cell_type": "code",
   "execution_count": null,
   "metadata": {},
   "outputs": [],
   "source": [
    "import numpy as np\n",
    "import pandas as pd "
   ]
  },
  {
   "cell_type": "code",
   "execution_count": null,
   "metadata": {},
   "outputs": [],
   "source": [
    "from keras.preprocessing.image import ImageDataGenerator, load_img\n",
    "from keras.utils import to_categorical\n",
    "from sklearn.model_selection import train_test_split"
   ]
  },
  {
   "cell_type": "code",
   "execution_count": 7,
   "metadata": {
    "execution": {
     "iopub.execute_input": "2021-09-06T10:43:48.490870Z",
     "iopub.status.busy": "2021-09-06T10:43:48.490280Z",
     "iopub.status.idle": "2021-09-06T10:43:53.491292Z",
     "shell.execute_reply": "2021-09-06T10:43:53.490490Z",
     "shell.execute_reply.started": "2021-09-06T10:43:48.490830Z"
    }
   },
   "outputs": [],
   "source": [
    "import random\n",
    "import os\n",
    "import matplotlib.pyplot as plt\n"
   ]
  },
  {
   "cell_type": "code",
   "execution_count": 8,
   "metadata": {
    "execution": {
     "iopub.execute_input": "2021-09-06T10:43:53.494289Z",
     "iopub.status.busy": "2021-09-06T10:43:53.493921Z",
     "iopub.status.idle": "2021-09-06T10:43:53.500170Z",
     "shell.execute_reply": "2021-09-06T10:43:53.499394Z",
     "shell.execute_reply.started": "2021-09-06T10:43:53.494252Z"
    }
   },
   "outputs": [],
   "source": [
    "\n",
    "filenames = os.listdir(\"../input/leavescolour/Plant_leave_diseases_dataset_with_augmentation\")\n"
   ]
  },
  {
   "cell_type": "code",
   "execution_count": null,
   "metadata": {},
   "outputs": [],
   "source": [
    "leaf_files = []\n",
    "leaf_categories = []"
   ]
  },
  {
   "cell_type": "code",
   "execution_count": 9,
   "metadata": {
    "execution": {
     "iopub.execute_input": "2021-09-06T10:43:53.503914Z",
     "iopub.status.busy": "2021-09-06T10:43:53.503674Z",
     "iopub.status.idle": "2021-09-06T10:43:53.588145Z",
     "shell.execute_reply": "2021-09-06T10:43:53.587287Z",
     "shell.execute_reply.started": "2021-09-06T10:43:53.503891Z"
    }
   },
   "outputs": [],
   "source": [
    "\n",
    "for filename in filenames:\n",
    "    \n",
    "    filepath  = \"../input/leavescolour/Plant_leave_diseases_dataset_with_augmentation/\" + filename\n",
    "    \n",
    "    for x in os.listdir(file):\n",
    "        p = filepath +\"/\"+ x\n",
    "        leaf_files.append(p)\n",
    "        leaf_categories.append(filename)\n",
    "#         print(filename,p)\n",
    "    \n",
    "df = pd.DataFrame({\n",
    "    'filename': leaf_files,\n",
    "    'category': leaf_categories\n",
    "})"
   ]
  },
  {
   "cell_type": "code",
   "execution_count": 10,
   "metadata": {
    "execution": {
     "iopub.execute_input": "2021-09-06T10:43:53.590415Z",
     "iopub.status.busy": "2021-09-06T10:43:53.590168Z",
     "iopub.status.idle": "2021-09-06T10:43:53.611200Z",
     "shell.execute_reply": "2021-09-06T10:43:53.610202Z",
     "shell.execute_reply.started": "2021-09-06T10:43:53.590391Z"
    }
   },
   "outputs": [
    {
     "data": {
      "text/html": [
       "<div>\n",
       "<style scoped>\n",
       "    .dataframe tbody tr th:only-of-type {\n",
       "        vertical-align: middle;\n",
       "    }\n",
       "\n",
       "    .dataframe tbody tr th {\n",
       "        vertical-align: top;\n",
       "    }\n",
       "\n",
       "    .dataframe thead th {\n",
       "        text-align: right;\n",
       "    }\n",
       "</style>\n",
       "<table border=\"1\" class=\"dataframe\">\n",
       "  <thead>\n",
       "    <tr style=\"text-align: right;\">\n",
       "      <th></th>\n",
       "      <th>filename</th>\n",
       "      <th>category</th>\n",
       "    </tr>\n",
       "  </thead>\n",
       "  <tbody>\n",
       "    <tr>\n",
       "      <th>0</th>\n",
       "      <td>../input/leavescolour/Plant_leave_diseases_dat...</td>\n",
       "      <td>Corn___Northern_Leaf_Blight</td>\n",
       "    </tr>\n",
       "    <tr>\n",
       "      <th>1</th>\n",
       "      <td>../input/leavescolour/Plant_leave_diseases_dat...</td>\n",
       "      <td>Corn___Northern_Leaf_Blight</td>\n",
       "    </tr>\n",
       "    <tr>\n",
       "      <th>2</th>\n",
       "      <td>../input/leavescolour/Plant_leave_diseases_dat...</td>\n",
       "      <td>Corn___Northern_Leaf_Blight</td>\n",
       "    </tr>\n",
       "    <tr>\n",
       "      <th>3</th>\n",
       "      <td>../input/leavescolour/Plant_leave_diseases_dat...</td>\n",
       "      <td>Corn___Northern_Leaf_Blight</td>\n",
       "    </tr>\n",
       "    <tr>\n",
       "      <th>4</th>\n",
       "      <td>../input/leavescolour/Plant_leave_diseases_dat...</td>\n",
       "      <td>Corn___Northern_Leaf_Blight</td>\n",
       "    </tr>\n",
       "  </tbody>\n",
       "</table>\n",
       "</div>"
      ],
      "text/plain": [
       "                                            filename  \\\n",
       "0  ../input/leavescolour/Plant_leave_diseases_dat...   \n",
       "1  ../input/leavescolour/Plant_leave_diseases_dat...   \n",
       "2  ../input/leavescolour/Plant_leave_diseases_dat...   \n",
       "3  ../input/leavescolour/Plant_leave_diseases_dat...   \n",
       "4  ../input/leavescolour/Plant_leave_diseases_dat...   \n",
       "\n",
       "                      category  \n",
       "0  Corn___Northern_Leaf_Blight  \n",
       "1  Corn___Northern_Leaf_Blight  \n",
       "2  Corn___Northern_Leaf_Blight  \n",
       "3  Corn___Northern_Leaf_Blight  \n",
       "4  Corn___Northern_Leaf_Blight  "
      ]
     },
     "execution_count": 10,
     "metadata": {},
     "output_type": "execute_result"
    }
   ],
   "source": [
    "df.head()"
   ]
  },
  {
   "cell_type": "code",
   "execution_count": 11,
   "metadata": {
    "execution": {
     "iopub.execute_input": "2021-09-06T10:43:53.612839Z",
     "iopub.status.busy": "2021-09-06T10:43:53.612507Z",
     "iopub.status.idle": "2021-09-06T10:43:53.617063Z",
     "shell.execute_reply": "2021-09-06T10:43:53.616214Z",
     "shell.execute_reply.started": "2021-09-06T10:43:53.612804Z"
    }
   },
   "outputs": [],
   "source": [
    "FAST_RUN = False\n",
    "IMAGE_WIDTH=256\n",
    "IMAGE_HEIGHT=256"
   ]
  },
  {
   "cell_type": "code",
   "execution_count": 12,
   "metadata": {
    "execution": {
     "iopub.execute_input": "2021-09-06T10:43:53.619103Z",
     "iopub.status.busy": "2021-09-06T10:43:53.618506Z",
     "iopub.status.idle": "2021-09-06T10:43:53.625091Z",
     "shell.execute_reply": "2021-09-06T10:43:53.624255Z",
     "shell.execute_reply.started": "2021-09-06T10:43:53.619064Z"
    }
   },
   "outputs": [],
   "source": [
    "IMAGE_SIZE=(IMAGE_WIDTH, IMAGE_HEIGHT)\n",
    "IMAGE_CHANNELS=3"
   ]
  },
  {
   "cell_type": "code",
   "execution_count": 13,
   "metadata": {
    "execution": {
     "iopub.execute_input": "2021-09-06T10:43:53.626890Z",
     "iopub.status.busy": "2021-09-06T10:43:53.626330Z",
     "iopub.status.idle": "2021-09-06T10:43:53.635271Z",
     "shell.execute_reply": "2021-09-06T10:43:53.634492Z",
     "shell.execute_reply.started": "2021-09-06T10:43:53.626852Z"
    }
   },
   "outputs": [],
   "source": [
    "from tensorflow.keras.layers import Input, Conv2D, BatchNormalization, Activation, MaxPool2D, UpSampling2D, Concatenate,MaxPooling2D,Dropout,Flatten,Dense\n",
    "from tensorflow.keras.models import Model\n",
    "from tensorflow.keras.utils import plot_model\n",
    "import tensorflow as tf\n",
    "\n",
    "from tensorflow.keras.callbacks import ModelCheckpoint, ReduceLROnPlateau, EarlyStopping, Callback\n",
    "\n",
    "def cnnblock(layer,filters,filtershape,dr = 0.25,deep = False , pool = True) :\n",
    "    \n",
    "    z = Conv2D(filters[0], filtershape, padding='same')(layer)\n",
    "    z = Conv2D(filters[1], filtershape, padding='same')(z)\n",
    "    z = Activation('relu')(z)\n",
    "    if pool :\n",
    "        z = MaxPooling2D(pool_size=(2, 2))(z)\n",
    "    if deep :\n",
    "        z = BatchNormalization()(z)\n",
    "        z = Dropout(dr)(z)\n",
    "    \n",
    "    \n",
    "    return z"
   ]
  },
  {
   "cell_type": "code",
   "execution_count": 14,
   "metadata": {
    "execution": {
     "iopub.execute_input": "2021-09-06T10:43:53.636882Z",
     "iopub.status.busy": "2021-09-06T10:43:53.636392Z",
     "iopub.status.idle": "2021-09-06T10:43:55.610255Z",
     "shell.execute_reply": "2021-09-06T10:43:55.609348Z",
     "shell.execute_reply.started": "2021-09-06T10:43:53.636848Z"
    }
   },
   "outputs": [],
   "source": [
    "inputs = Input(shape=(IMAGE_WIDTH, IMAGE_HEIGHT, IMAGE_CHANNELS))\n",
    "\n",
    "model1 = cnnblock(inputs,[64,64],3,pool = True)\n",
    "\n",
    "model1 = cnnblock(model1,[32,32],3)\n",
    "\n",
    "model1 = cnnblock(model1,[16,16],3,deep = True)\n",
    "\n",
    "model1 = Flatten()(model1)\n",
    "\n",
    "model1 = Dense(1024, activation='relu')(model1)\n",
    "\n",
    "model1 = Dense(512, activation='relu')(model1)\n",
    "\n",
    "model1 = Dense(256, activation='relu')(model1)\n",
    "\n",
    "model1 = Dense(39, activation='softmax')(model1)\n",
    "\n",
    "model = Model(inputs, model1)\n",
    "model.compile(loss='categorical_crossentropy', optimizer='adam', metrics=['accuracy'])"
   ]
  },
  {
   "cell_type": "code",
   "execution_count": 15,
   "metadata": {
    "execution": {
     "iopub.execute_input": "2021-09-06T10:43:55.611922Z",
     "iopub.status.busy": "2021-09-06T10:43:55.611568Z",
     "iopub.status.idle": "2021-09-06T10:43:55.627605Z",
     "shell.execute_reply": "2021-09-06T10:43:55.626713Z",
     "shell.execute_reply.started": "2021-09-06T10:43:55.611886Z"
    }
   },
   "outputs": [
    {
     "name": "stdout",
     "output_type": "stream",
     "text": [
      "Model: \"model\"\n",
      "_________________________________________________________________\n",
      "Layer (type)                 Output Shape              Param #   \n",
      "=================================================================\n",
      "input_1 (InputLayer)         [(None, 256, 256, 3)]     0         \n",
      "_________________________________________________________________\n",
      "conv2d (Conv2D)              (None, 256, 256, 64)      1792      \n",
      "_________________________________________________________________\n",
      "conv2d_1 (Conv2D)            (None, 256, 256, 64)      36928     \n",
      "_________________________________________________________________\n",
      "activation (Activation)      (None, 256, 256, 64)      0         \n",
      "_________________________________________________________________\n",
      "max_pooling2d (MaxPooling2D) (None, 128, 128, 64)      0         \n",
      "_________________________________________________________________\n",
      "conv2d_2 (Conv2D)            (None, 128, 128, 32)      18464     \n",
      "_________________________________________________________________\n",
      "conv2d_3 (Conv2D)            (None, 128, 128, 32)      9248      \n",
      "_________________________________________________________________\n",
      "activation_1 (Activation)    (None, 128, 128, 32)      0         \n",
      "_________________________________________________________________\n",
      "max_pooling2d_1 (MaxPooling2 (None, 64, 64, 32)        0         \n",
      "_________________________________________________________________\n",
      "conv2d_4 (Conv2D)            (None, 64, 64, 16)        4624      \n",
      "_________________________________________________________________\n",
      "conv2d_5 (Conv2D)            (None, 64, 64, 16)        2320      \n",
      "_________________________________________________________________\n",
      "activation_2 (Activation)    (None, 64, 64, 16)        0         \n",
      "_________________________________________________________________\n",
      "max_pooling2d_2 (MaxPooling2 (None, 32, 32, 16)        0         \n",
      "_________________________________________________________________\n",
      "batch_normalization (BatchNo (None, 32, 32, 16)        64        \n",
      "_________________________________________________________________\n",
      "dropout (Dropout)            (None, 32, 32, 16)        0         \n",
      "_________________________________________________________________\n",
      "flatten (Flatten)            (None, 16384)             0         \n",
      "_________________________________________________________________\n",
      "dense (Dense)                (None, 1024)              16778240  \n",
      "_________________________________________________________________\n",
      "dense_1 (Dense)              (None, 512)               524800    \n",
      "_________________________________________________________________\n",
      "dense_2 (Dense)              (None, 256)               131328    \n",
      "_________________________________________________________________\n",
      "dense_3 (Dense)              (None, 39)                10023     \n",
      "=================================================================\n",
      "Total params: 17,517,831\n",
      "Trainable params: 17,517,799\n",
      "Non-trainable params: 32\n",
      "_________________________________________________________________\n"
     ]
    }
   ],
   "source": [
    "model.summary()"
   ]
  },
  {
   "cell_type": "code",
   "execution_count": 16,
   "metadata": {
    "execution": {
     "iopub.execute_input": "2021-09-06T10:43:55.629918Z",
     "iopub.status.busy": "2021-09-06T10:43:55.629278Z",
     "iopub.status.idle": "2021-09-06T10:43:56.399437Z",
     "shell.execute_reply": "2021-09-06T10:43:56.398592Z",
     "shell.execute_reply.started": "2021-09-06T10:43:55.629864Z"
    }
   },
   "outputs": [
    {
     "data": {
      "text/plain": [
       "<AxesSubplot:>"
      ]
     },
     "execution_count": 16,
     "metadata": {},
     "output_type": "execute_result"
    },
    {
     "data": {
      "image/png": "[encoded data removed]",
      "text/plain": [
       "<Figure size 1440x1440 with 1 Axes>"
      ]
     },
     "metadata": {
      "needs_background": "light"
     },
     "output_type": "display_data"
    }
   ],
   "source": [
    "train_z, validate_z = train_test_split(df, test_size=0.20, random_state=42)\n",
    "train_z= train_z.reset_index(drop=True)\n",
    "validate_z = validate_z.reset_index(drop=True)\n",
    "train_z.head()\n",
    "plt.figure(figsize = (20,20))\n",
    "train_z['category'].value_counts().plot.bar()"
   ]
  },
  {
   "cell_type": "code",
   "execution_count": 17,
   "metadata": {
    "execution": {
     "iopub.execute_input": "2021-09-06T10:43:56.400824Z",
     "iopub.status.busy": "2021-09-06T10:43:56.400506Z",
     "iopub.status.idle": "2021-09-06T10:43:56.405323Z",
     "shell.execute_reply": "2021-09-06T10:43:56.404506Z",
     "shell.execute_reply.started": "2021-09-06T10:43:56.400789Z"
    }
   },
   "outputs": [],
   "source": [
    "total_train = train_z.shape[0]\n",
    "total_validation = validate_z.shape[0]\n",
    "batch_size = 64"
   ]
  },
  {
   "cell_type": "code",
   "execution_count": 18,
   "metadata": {
    "execution": {
     "iopub.execute_input": "2021-09-06T10:43:56.407207Z",
     "iopub.status.busy": "2021-09-06T10:43:56.406692Z",
     "iopub.status.idle": "2021-09-06T10:44:47.961841Z",
     "shell.execute_reply": "2021-09-06T10:44:47.960739Z",
     "shell.execute_reply.started": "2021-09-06T10:43:56.407173Z"
    }
   },
   "outputs": [
    {
     "name": "stdout",
     "output_type": "stream",
     "text": [
      "Found 49188 validated image filenames belonging to 39 classes.\n"
     ]
    }
   ],
   "source": [
    "t_datagen = ImageDataGenerator(\n",
    "    rotation_range=15,\n",
    "    rescale=1./255,\n",
    "    shear_range=0.1,\n",
    "    zoom_range=0.2,\n",
    "    horizontal_flip=True,\n",
    "    width_shift_range=0.1,\n",
    "    height_shift_range=0.1\n",
    ")\n",
    "\n",
    "t_generator = t_datagen.flow_from_dataframe(\n",
    "    train_z, \n",
    "     \n",
    "    x_col='filename',\n",
    "    y_col='category',\n",
    "    target_size=IMAGE_SIZE,\n",
    "    class_mode='categorical',\n",
    "    batch_size=batch_size\n",
    ")\n"
   ]
  },
  {
   "cell_type": "code",
   "execution_count": 19,
   "metadata": {
    "execution": {
     "iopub.execute_input": "2021-09-06T10:44:47.963604Z",
     "iopub.status.busy": "2021-09-06T10:44:47.963102Z",
     "iopub.status.idle": "2021-09-06T10:45:07.591016Z",
     "shell.execute_reply": "2021-09-06T10:45:07.590197Z",
     "shell.execute_reply.started": "2021-09-06T10:44:47.963556Z"
    }
   },
   "outputs": [
    {
     "name": "stdout",
     "output_type": "stream",
     "text": [
      "Found 12298 validated image filenames belonging to 39 classes.\n"
     ]
    }
   ],
   "source": [
    "v_datagen = ImageDataGenerator(rescale=1/255)\n",
    "\n",
    "v_generator = v_datagen.flow_from_dataframe(\n",
    "    validate_z, \n",
    "    \n",
    "    x_col='filename',\n",
    "    y_col='category',\n",
    "    target_size=IMAGE_SIZE,\n",
    "    class_mode='categorical',\n",
    "    batch_size=batch_size\n",
    ")"
   ]
  },
  {
   "cell_type": "code",
   "execution_count": 20,
   "metadata": {
    "execution": {
     "iopub.execute_input": "2021-09-06T10:45:07.592532Z",
     "iopub.status.busy": "2021-09-06T10:45:07.592212Z",
     "iopub.status.idle": "2021-09-06T10:45:07.600519Z",
     "shell.execute_reply": "2021-09-06T10:45:07.599414Z",
     "shell.execute_reply.started": "2021-09-06T10:45:07.592497Z"
    }
   },
   "outputs": [
    {
     "data": {
      "text/plain": [
       "{'Apple___Apple_scab': 0,\n",
       " 'Apple___Black_rot': 1,\n",
       " 'Apple___Cedar_apple_rust': 2,\n",
       " 'Apple___healthy': 3,\n",
       " 'Background_without_leaves': 4,\n",
       " 'Blueberry___healthy': 5,\n",
       " 'Cherry___Powdery_mildew': 6,\n",
       " 'Cherry___healthy': 7,\n",
       " 'Corn___Cercospora_leaf_spot Gray_leaf_spot': 8,\n",
       " 'Corn___Common_rust': 9,\n",
       " 'Corn___Northern_Leaf_Blight': 10,\n",
       " 'Corn___healthy': 11,\n",
       " 'Grape___Black_rot': 12,\n",
       " 'Grape___Esca_(Black_Measles)': 13,\n",
       " 'Grape___Leaf_blight_(Isariopsis_Leaf_Spot)': 14,\n",
       " 'Grape___healthy': 15,\n",
       " 'Orange___Haunglongbing_(Citrus_greening)': 16,\n",
       " 'Peach___Bacterial_spot': 17,\n",
       " 'Peach___healthy': 18,\n",
       " 'Pepper,_bell___Bacterial_spot': 19,\n",
       " 'Pepper,_bell___healthy': 20,\n",
       " 'Potato___Early_blight': 21,\n",
       " 'Potato___Late_blight': 22,\n",
       " 'Potato___healthy': 23,\n",
       " 'Raspberry___healthy': 24,\n",
       " 'Soybean___healthy': 25,\n",
       " 'Squash___Powdery_mildew': 26,\n",
       " 'Strawberry___Leaf_scorch': 27,\n",
       " 'Strawberry___healthy': 28,\n",
       " 'Tomato___Bacterial_spot': 29,\n",
       " 'Tomato___Early_blight': 30,\n",
       " 'Tomato___Late_blight': 31,\n",
       " 'Tomato___Leaf_Mold': 32,\n",
       " 'Tomato___Septoria_leaf_spot': 33,\n",
       " 'Tomato___Spider_mites Two-spotted_spider_mite': 34,\n",
       " 'Tomato___Target_Spot': 35,\n",
       " 'Tomato___Tomato_Yellow_Leaf_Curl_Virus': 36,\n",
       " 'Tomato___Tomato_mosaic_virus': 37,\n",
       " 'Tomato___healthy': 38}"
      ]
     },
     "execution_count": 20,
     "metadata": {},
     "output_type": "execute_result"
    }
   ],
   "source": [
    "t_generator.class_indices"
   ]
  },
  {
   "cell_type": "code",
   "execution_count": 21,
   "metadata": {
    "execution": {
     "iopub.execute_input": "2021-09-06T10:45:07.602533Z",
     "iopub.status.busy": "2021-09-06T10:45:07.602153Z",
     "iopub.status.idle": "2021-09-06T10:45:07.610087Z",
     "shell.execute_reply": "2021-09-06T10:45:07.609197Z",
     "shell.execute_reply.started": "2021-09-06T10:45:07.602499Z"
    }
   },
   "outputs": [],
   "source": [
    "d = t_generator.class_indices\n"
   ]
  },
  {
   "cell_type": "code",
   "execution_count": 22,
   "metadata": {
    "execution": {
     "iopub.execute_input": "2021-09-06T10:45:07.611876Z",
     "iopub.status.busy": "2021-09-06T10:45:07.611273Z",
     "iopub.status.idle": "2021-09-06T10:45:07.619528Z",
     "shell.execute_reply": "2021-09-06T10:45:07.618652Z",
     "shell.execute_reply.started": "2021-09-06T10:45:07.611839Z"
    }
   },
   "outputs": [],
   "source": [
    "from tensorflow.keras.callbacks import ReduceLROnPlateau, ModelCheckpoint\n",
    "red1 = ReduceLROnPlateau(monitor='val_accuracy', factor=0.5, patience=5, verbose=1, min_lr=1e-3)\n",
    "check_point1 = ModelCheckpoint('model.h5', verbose=1, save_best_only=True)"
   ]
  },
  {
   "cell_type": "code",
   "execution_count": 23,
   "metadata": {
    "execution": {
     "iopub.execute_input": "2021-09-06T10:45:07.623588Z",
     "iopub.status.busy": "2021-09-06T10:45:07.623278Z",
     "iopub.status.idle": "2021-09-06T16:40:27.150413Z",
     "shell.execute_reply": "2021-09-06T16:40:27.149524Z",
     "shell.execute_reply.started": "2021-09-06T10:45:07.623556Z"
    }
   },
   "outputs": [
    {
     "name": "stdout",
     "output_type": "stream",
     "text": [
      "Epoch 1/25\n",
      "768/768 [==============================] - 1105s 1s/step - loss: 1.7508 - accuracy: 0.5177 - val_loss: 1.8908 - val_accuracy: 0.5434\n",
      "\n",
      "Epoch 00001: val_loss improved from inf to 1.89082, saving model to model.h5\n",
      "Epoch 2/25\n",
      "768/768 [==============================] - 825s 1s/step - loss: 0.7254 - accuracy: 0.7722 - val_loss: 0.8582 - val_accuracy: 0.7636\n",
      "\n",
      "Epoch 00002: val_loss improved from 1.89082 to 0.85825, saving model to model.h5\n",
      "Epoch 3/25\n",
      "768/768 [==============================] - 829s 1s/step - loss: 0.4857 - accuracy: 0.8455 - val_loss: 1.1278 - val_accuracy: 0.7257\n",
      "\n",
      "Epoch 00003: val_loss did not improve from 0.85825\n",
      "Epoch 4/25\n",
      "768/768 [==============================] - 848s 1s/step - loss: 0.3836 - accuracy: 0.8779 - val_loss: 0.5987 - val_accuracy: 0.8289\n",
      "\n",
      "Epoch 00004: val_loss improved from 0.85825 to 0.59867, saving model to model.h5\n",
      "Epoch 5/25\n",
      "768/768 [==============================] - 858s 1s/step - loss: 0.3408 - accuracy: 0.8914 - val_loss: 0.5699 - val_accuracy: 0.8391\n",
      "\n",
      "Epoch 00005: val_loss improved from 0.59867 to 0.56995, saving model to model.h5\n",
      "Epoch 6/25\n",
      "768/768 [==============================] - 853s 1s/step - loss: 0.3139 - accuracy: 0.8997 - val_loss: 0.3635 - val_accuracy: 0.8917\n",
      "\n",
      "Epoch 00006: val_loss improved from 0.56995 to 0.36352, saving model to model.h5\n",
      "Epoch 7/25\n",
      "768/768 [==============================] - 848s 1s/step - loss: 0.2773 - accuracy: 0.9107 - val_loss: 0.2692 - val_accuracy: 0.9183\n",
      "\n",
      "Epoch 00007: val_loss improved from 0.36352 to 0.26918, saving model to model.h5\n",
      "Epoch 8/25\n",
      "768/768 [==============================] - 839s 1s/step - loss: 0.2386 - accuracy: 0.9246 - val_loss: 0.5953 - val_accuracy: 0.8325\n",
      "\n",
      "Epoch 00008: val_loss did not improve from 0.26918\n",
      "Epoch 9/25\n",
      "768/768 [==============================] - 837s 1s/step - loss: 0.2254 - accuracy: 0.9295 - val_loss: 0.3066 - val_accuracy: 0.9106\n",
      "\n",
      "Epoch 00009: val_loss did not improve from 0.26918\n",
      "Epoch 10/25\n",
      "768/768 [==============================] - 847s 1s/step - loss: 0.2110 - accuracy: 0.9321 - val_loss: 0.5921 - val_accuracy: 0.8443\n",
      "\n",
      "Epoch 00010: val_loss did not improve from 0.26918\n",
      "Epoch 11/25\n",
      "768/768 [==============================] - 850s 1s/step - loss: 0.1960 - accuracy: 0.9366 - val_loss: 0.2753 - val_accuracy: 0.9150\n",
      "\n",
      "Epoch 00011: val_loss did not improve from 0.26918\n",
      "Epoch 12/25\n",
      "768/768 [==============================] - 855s 1s/step - loss: 0.1945 - accuracy: 0.9394 - val_loss: 0.5360 - val_accuracy: 0.8542\n",
      "\n",
      "Epoch 00012: ReduceLROnPlateau reducing learning rate to 0.001.\n",
      "\n",
      "Epoch 00012: val_loss did not improve from 0.26918\n",
      "Epoch 13/25\n",
      "768/768 [==============================] - 837s 1s/step - loss: 0.1959 - accuracy: 0.9395 - val_loss: 0.9969 - val_accuracy: 0.7717\n",
      "\n",
      "Epoch 00013: val_loss did not improve from 0.26918\n",
      "Epoch 14/25\n",
      "768/768 [==============================] - 830s 1s/step - loss: 0.1765 - accuracy: 0.9444 - val_loss: 0.5150 - val_accuracy: 0.8705\n",
      "\n",
      "Epoch 00014: val_loss did not improve from 0.26918\n",
      "Epoch 15/25\n",
      "768/768 [==============================] - 827s 1s/step - loss: 0.1638 - accuracy: 0.9488 - val_loss: 0.5367 - val_accuracy: 0.8627\n",
      "\n",
      "Epoch 00015: val_loss did not improve from 0.26918\n",
      "Epoch 16/25\n",
      "768/768 [==============================] - 844s 1s/step - loss: 0.1521 - accuracy: 0.9512 - val_loss: 0.4556 - val_accuracy: 0.8854\n",
      "\n",
      "Epoch 00016: val_loss did not improve from 0.26918\n",
      "Epoch 17/25\n",
      "768/768 [==============================] - 849s 1s/step - loss: 0.1526 - accuracy: 0.9523 - val_loss: 0.3609 - val_accuracy: 0.9058\n",
      "\n",
      "Epoch 00017: ReduceLROnPlateau reducing learning rate to 0.001.\n",
      "\n",
      "Epoch 00017: val_loss did not improve from 0.26918\n",
      "Epoch 18/25\n",
      "768/768 [==============================] - 831s 1s/step - loss: 0.1433 - accuracy: 0.9559 - val_loss: 0.2912 - val_accuracy: 0.9127\n",
      "\n",
      "Epoch 00018: val_loss did not improve from 0.26918\n",
      "Epoch 19/25\n",
      "768/768 [==============================] - 837s 1s/step - loss: 0.1420 - accuracy: 0.9565 - val_loss: 0.2004 - val_accuracy: 0.9447\n",
      "\n",
      "Epoch 00019: val_loss improved from 0.26918 to 0.20044, saving model to model.h5\n",
      "Epoch 20/25\n",
      "768/768 [==============================] - 856s 1s/step - loss: 0.1349 - accuracy: 0.9573 - val_loss: 0.2122 - val_accuracy: 0.9363\n",
      "\n",
      "Epoch 00020: val_loss did not improve from 0.20044\n",
      "Epoch 21/25\n",
      "768/768 [==============================] - 835s 1s/step - loss: 0.1328 - accuracy: 0.9583 - val_loss: 0.2708 - val_accuracy: 0.9255\n",
      "\n",
      "Epoch 00021: val_loss did not improve from 0.20044\n",
      "Epoch 22/25\n",
      "768/768 [==============================] - 854s 1s/step - loss: 0.1409 - accuracy: 0.9558 - val_loss: 0.2016 - val_accuracy: 0.9449\n",
      "\n",
      "Epoch 00022: val_loss did not improve from 0.20044\n",
      "Epoch 23/25\n",
      "768/768 [==============================] - 852s 1s/step - loss: 0.1220 - accuracy: 0.9618 - val_loss: 0.4479 - val_accuracy: 0.8910\n",
      "\n",
      "Epoch 00023: val_loss did not improve from 0.20044\n",
      "Epoch 24/25\n",
      "768/768 [==============================] - 837s 1s/step - loss: 0.1182 - accuracy: 0.9611 - val_loss: 0.1792 - val_accuracy: 0.9474\n",
      "\n",
      "Epoch 00024: val_loss improved from 0.20044 to 0.17922, saving model to model.h5\n",
      "Epoch 25/25\n",
      "768/768 [==============================] - 830s 1s/step - loss: 0.1154 - accuracy: 0.9628 - val_loss: 0.2475 - val_accuracy: 0.9357\n",
      "\n",
      "Epoch 00025: val_loss did not improve from 0.17922\n"
     ]
    }
   ],
   "source": [
    "epochs=25\n",
    "modelhistory = model.fit(\n",
    "    t_generator, \n",
    "    epochs=epochs,\n",
    "    validation_data=v_generator,\n",
    "    validation_stps=total_validation//batch_size,\n",
    "    steps_per_epoch=total_train//batch_size,callbacks=[red1, check_point1])\n",
    "    \n"
   ]
  },
  {
   "cell_type": "code",
   "execution_count": 24,
   "metadata": {
    "execution": {
     "iopub.execute_input": "2021-09-06T16:40:27.152801Z",
     "iopub.status.busy": "2021-09-06T16:40:27.152442Z",
     "iopub.status.idle": "2021-09-06T16:40:27.288514Z",
     "shell.execute_reply": "2021-09-06T16:40:27.287748Z",
     "shell.execute_reply.started": "2021-09-06T16:40:27.152761Z"
    }
   },
   "outputs": [
    {
     "data": {
      "image/png": "[encoded data removed]",
      "text/plain": [
       "<Figure size 432x288 with 1 Axes>"
      ]
     },
     "metadata": {
      "needs_background": "light"
     },
     "output_type": "display_data"
    }
   ],
   "source": [
    "plt.plot(modelhistory.history['accuracy'])\n",
    "plt.plot(modelhistory.history['val_accuracy'])\n",
    "plt.title('model accuracy')\n",
    "plt.ylabel('accuracy') \n",
    "plt.xlabel('epoch')\n",
    "plt.legend(['train', 'test'], loc='upper left')\n",
    "plt.show()"
   ]
  },
  {
   "cell_type": "code",
   "execution_count": 25,
   "metadata": {
    "execution": {
     "iopub.execute_input": "2021-09-06T16:40:27.290131Z",
     "iopub.status.busy": "2021-09-06T16:40:27.289767Z",
     "iopub.status.idle": "2021-09-06T16:40:27.423291Z",
     "shell.execute_reply": "2021-09-06T16:40:27.422374Z",
     "shell.execute_reply.started": "2021-09-06T16:40:27.290095Z"
    }
   },
   "outputs": [
    {
     "data": {
      "image/png": "[encoded data removed]",
      "text/plain": [
       "<Figure size 432x288 with 1 Axes>"
      ]
     },
     "metadata": {
      "needs_background": "light"
     },
     "output_type": "display_data"
    }
   ],
   "source": [
    "# loss plot\n",
    "plt.plot(modelhistory.history['loss'])\n",
    "plt.plot(modelhistory.history['val_loss'])\n",
    "plt.title('model loss')\n",
    "plt.ylabel('loss')\n",
    "plt.xlabel('epoch')\n",
    "plt.legend(['train', 'test'], loc='upper left')\n",
    "plt.show()"
   ]
  },
  {
   "cell_type": "code",
   "execution_count": 26,
   "metadata": {
    "execution": {
     "iopub.execute_input": "2021-09-06T16:40:27.424904Z",
     "iopub.status.busy": "2021-09-06T16:40:27.424566Z",
     "iopub.status.idle": "2021-09-06T16:40:27.992687Z",
     "shell.execute_reply": "2021-09-06T16:40:27.991733Z",
     "shell.execute_reply.started": "2021-09-06T16:40:27.424869Z"
    }
   },
   "outputs": [],
   "source": [
    "model.save_weights(\"plant(w).h5\")\n",
    "model.save(\"plant(m).h5\")"
   ]
  },
  {
   "cell_type": "code",
   "execution_count": 27,
   "metadata": {
    "execution": {
     "iopub.execute_input": "2021-09-06T16:40:27.994447Z",
     "iopub.status.busy": "2021-09-06T16:40:27.994083Z",
     "iopub.status.idle": "2021-09-06T16:40:28.531441Z",
     "shell.execute_reply": "2021-09-06T16:40:28.528882Z",
     "shell.execute_reply.started": "2021-09-06T16:40:27.994405Z"
    }
   },
   "outputs": [
    {
     "name": "stderr",
     "output_type": "stream",
     "text": [
      "  0%|          | 0/12298 [00:00<?, ?it/s]\n"
     ]
    },
    {
     "ename": "ValueError",
     "evalue": "cannot reshape array of size 196608 into shape (1,224,224,3)",
     "output_type": "error",
     "traceback": [
      "\u001b[0;31m---------------------------------------------------------------------------\u001b[0m",
      "\u001b[0;31mValueError\u001b[0m                                Traceback (most recent call last)",
      "\u001b[0;32m<ipython-input-27-3b2339f03ecf>\u001b[0m in \u001b[0;36m<module>\u001b[0;34m\u001b[0m\n\u001b[1;32m     21\u001b[0m \u001b[0;31m#     print(\"aaa\",x)\u001b[0m\u001b[0;34m\u001b[0m\u001b[0;34m\u001b[0m\u001b[0;34m\u001b[0m\u001b[0m\n\u001b[1;32m     22\u001b[0m \u001b[0;31m#     print(x.shape)\u001b[0m\u001b[0;34m\u001b[0m\u001b[0;34m\u001b[0m\u001b[0;34m\u001b[0m\u001b[0m\n\u001b[0;32m---> 23\u001b[0;31m     \u001b[0mx\u001b[0m \u001b[0;34m=\u001b[0m \u001b[0mx\u001b[0m\u001b[0;34m.\u001b[0m\u001b[0mreshape\u001b[0m\u001b[0;34m(\u001b[0m\u001b[0;34m(\u001b[0m\u001b[0;36m1\u001b[0m\u001b[0;34m,\u001b[0m\u001b[0;36m224\u001b[0m\u001b[0;34m,\u001b[0m\u001b[0;36m224\u001b[0m\u001b[0;34m,\u001b[0m\u001b[0;36m3\u001b[0m\u001b[0;34m)\u001b[0m\u001b[0;34m)\u001b[0m\u001b[0;34m\u001b[0m\u001b[0;34m\u001b[0m\u001b[0m\n\u001b[0m\u001b[1;32m     24\u001b[0m \u001b[0;34m\u001b[0m\u001b[0m\n\u001b[1;32m     25\u001b[0m     \u001b[0mpred\u001b[0m\u001b[0;34m.\u001b[0m\u001b[0mappend\u001b[0m\u001b[0;34m(\u001b[0m\u001b[0mnp\u001b[0m\u001b[0;34m.\u001b[0m\u001b[0margmax\u001b[0m\u001b[0;34m(\u001b[0m\u001b[0mmodel\u001b[0m\u001b[0;34m.\u001b[0m\u001b[0mpredict\u001b[0m\u001b[0;34m(\u001b[0m\u001b[0;34m[\u001b[0m\u001b[0mx\u001b[0m\u001b[0;34m]\u001b[0m\u001b[0;34m)\u001b[0m\u001b[0;34m[\u001b[0m\u001b[0;36m0\u001b[0m\u001b[0;34m]\u001b[0m\u001b[0;34m)\u001b[0m\u001b[0;34m)\u001b[0m\u001b[0;34m\u001b[0m\u001b[0;34m\u001b[0m\u001b[0m\n",
      "\u001b[0;31mValueError\u001b[0m: cannot reshape array of size 196608 into shape (1,224,224,3)"
     ]
    }
   ],
   "source": [
    "d = t_generator.class_indices\n",
    "\n",
    "import cv2\n",
    "from tqdm import tqdm\n",
    "from skimage.transform import resize\n",
    "pred = []\n",
    "y_true = []\n",
    "for f in tqdm(range(len(validate_z))) :\n",
    "#     print(validate[\"filename\"][f])\n",
    "    x = cv2.imread(validate_z[\"filename\"][f], cv2.IMREAD_COLOR)\n",
    "    \n",
    "        \n",
    "    x = cv2.cvtColor(x, cv2.COLOR_BGR2RGB)\n",
    "#     print(type(x))\n",
    "#     print(x.shape)\n",
    "    x = resize(x, IMAGE_SIZE)\n",
    "#     print(x.shape)\n",
    "#     print(x)\n",
    "\n",
    "    x = x.astype(np.float32)\n",
    "#     print(\"aaa\",x)\n",
    "#     print(x.shape)\n",
    "    x = x.reshape((1,256,256,3))\n",
    "\n",
    "    pred.append(np.argmax(model.predict([x])[0]))\n",
    "#     print(d[validate[\"category\"][f]])\n",
    "    y_true.append(d[validate_z[\"category\"][f]])\n",
    "    \n",
    "\n",
    "labels = list(t_generator.class_indices.keys())"
   ]
  },
  {
   "cell_type": "code",
   "execution_count": null,
   "metadata": {
    "execution": {
     "iopub.status.busy": "2021-09-06T16:40:28.534311Z",
     "iopub.status.idle": "2021-09-06T16:40:28.536686Z"
    }
   },
   "outputs": [],
   "source": [
    "labels"
   ]
  },
  {
   "cell_type": "code",
   "execution_count": null,
   "metadata": {
    "execution": {
     "iopub.status.busy": "2021-09-06T16:40:28.540612Z",
     "iopub.status.idle": "2021-09-06T16:40:28.542987Z"
    }
   },
   "outputs": [],
   "source": [
    "from sklearn.metrics import confusion_matrix\n",
    "import seaborn as sns\n",
    "cm = confusion_matrix(y_true, pred)\n",
    "plt.figure(figsize=(20,20))\n",
    "ax = sns.heatmap(cm, cmap=plt.cm.Greens, annot=True, square=True, xticklabels=labels, yticklabels=labels)\n",
    "ax.set_ylabel('Actual', fontsize=40)\n",
    "ax.set_xlabel('Predicted', fontsize=40)\n"
   ]
  },
  {
   "cell_type": "code",
   "execution_count": null,
   "metadata": {},
   "outputs": [],
   "source": []
  },
  {
   "cell_type": "code",
   "execution_count": null,
   "metadata": {},
   "outputs": [],
   "source": []
  }
 ],
 "metadata": {
  "kernelspec": {
   "display_name": "Python 3",
   "language": "python",
   "name": "python3"
  },
  "language_info": {
   "codemirror_mode": {
    "name": "ipython",
    "version": 3
   },
   "file_extension": ".py",
   "mimetype": "text/x-python",
   "name": "python",
   "nbconvert_exporter": "python",
   "pygments_lexer": "ipython3",
   "version": "3.8.8"
  }
 },
 "nbformat": 4,
 "nbformat_minor": 4
}
