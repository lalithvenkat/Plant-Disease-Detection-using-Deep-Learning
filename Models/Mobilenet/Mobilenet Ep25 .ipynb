{
 "cells": [
  {
   "cell_type": "code",
   "execution_count": null,
   "metadata": {
    "execution": {
     "iopub.execute_input": "2021-09-06T07:20:02.210707Z",
     "iopub.status.busy": "2021-09-06T07:20:02.210344Z",
     "iopub.status.idle": "2021-09-06T07:20:02.220245Z",
     "shell.execute_reply": "2021-09-06T07:20:02.219409Z",
     "shell.execute_reply.started": "2021-09-06T07:20:02.210628Z"
    },
    "id": "PrPkBvHvXYET"
   },
   "outputs": [],
   "source": [
    "import os"
   ]
  },
  {
   "cell_type": "code",
   "execution_count": null,
   "metadata": {
    "execution": {
     "iopub.execute_input": "2021-09-06T07:20:02.224087Z",
     "iopub.status.busy": "2021-09-06T07:20:02.223305Z",
     "iopub.status.idle": "2021-09-06T07:20:02.232424Z",
     "shell.execute_reply": "2021-09-06T07:20:02.231403Z",
     "shell.execute_reply.started": "2021-09-06T07:20:02.224045Z"
    },
    "id": "IBoHvXO_XYEc"
   },
   "outputs": [],
   "source": [
    "path =  '../input/plant-leaves-colour/Plant_leave_diseases_dataset_with_augmentation/'"
   ]
  },
  {
   "cell_type": "code",
   "execution_count": null,
   "metadata": {
    "execution": {
     "iopub.execute_input": "2021-09-06T07:20:02.234250Z",
     "iopub.status.busy": "2021-09-06T07:20:02.233894Z",
     "iopub.status.idle": "2021-09-06T07:20:02.251372Z",
     "shell.execute_reply": "2021-09-06T07:20:02.250098Z",
     "shell.execute_reply.started": "2021-09-06T07:20:02.234215Z"
    },
    "id": "MWxuEI3LXYEf"
   },
   "outputs": [],
   "source": [
    "labels =os.listdir(path)"
   ]
  },
  {
   "cell_type": "code",
   "execution_count": null,
   "metadata": {
    "execution": {
     "iopub.execute_input": "2021-09-06T07:20:02.253907Z",
     "iopub.status.busy": "2021-09-06T07:20:02.253330Z",
     "iopub.status.idle": "2021-09-06T07:20:02.262810Z",
     "shell.execute_reply": "2021-09-06T07:20:02.261796Z",
     "shell.execute_reply.started": "2021-09-06T07:20:02.253870Z"
    },
    "id": "1aBtykItXYEh",
    "outputId": "ad7e788d-2485-4d40-f609-3e93c82db61f"
   },
   "outputs": [
    {
     "data": {
      "text/plain": [
       "['Corn___Northern_Leaf_Blight',\n",
       " 'Tomato___Late_blight',\n",
       " 'Tomato___healthy',\n",
       " 'Grape___healthy',\n",
       " 'Orange___Haunglongbing_(Citrus_greening)',\n",
       " 'Soybean___healthy',\n",
       " 'Squash___Powdery_mildew',\n",
       " 'Background_without_leaves',\n",
       " 'Potato___healthy',\n",
       " 'Tomato___Early_blight',\n",
       " 'Tomato___Septoria_leaf_spot',\n",
       " 'Corn___healthy',\n",
       " 'Strawberry___Leaf_scorch',\n",
       " 'Peach___healthy',\n",
       " 'Apple___Apple_scab',\n",
       " 'Tomato___Tomato_Yellow_Leaf_Curl_Virus',\n",
       " 'Tomato___Bacterial_spot',\n",
       " 'Apple___Black_rot',\n",
       " 'Blueberry___healthy',\n",
       " 'Cherry___Powdery_mildew',\n",
       " 'Peach___Bacterial_spot',\n",
       " 'Apple___Cedar_apple_rust',\n",
       " 'Tomato___Target_Spot',\n",
       " 'Pepper,_bell___healthy',\n",
       " 'Grape___Leaf_blight_(Isariopsis_Leaf_Spot)',\n",
       " 'Potato___Late_blight',\n",
       " 'Corn___Cercospora_leaf_spot Gray_leaf_spot',\n",
       " 'Tomato___Tomato_mosaic_virus',\n",
       " 'Strawberry___healthy',\n",
       " 'Corn___Common_rust',\n",
       " 'Apple___healthy',\n",
       " 'Grape___Black_rot',\n",
       " 'Potato___Early_blight',\n",
       " 'Grape___Esca_(Black_Measles)',\n",
       " 'Raspberry___healthy',\n",
       " 'Tomato___Leaf_Mold',\n",
       " 'Cherry___healthy',\n",
       " 'Tomato___Spider_mites Two-spotted_spider_mite',\n",
       " 'Pepper,_bell___Bacterial_spot']"
      ]
     },
     "execution_count": 4,
     "metadata": {},
     "output_type": "execute_result"
    }
   ],
   "source": [
    "labels"
   ]
  },
  {
   "cell_type": "code",
   "execution_count": null,
   "metadata": {
    "execution": {
     "iopub.execute_input": "2021-09-06T07:20:02.265344Z",
     "iopub.status.busy": "2021-09-06T07:20:02.264614Z",
     "iopub.status.idle": "2021-09-06T07:20:06.290891Z",
     "shell.execute_reply": "2021-09-06T07:20:06.290050Z",
     "shell.execute_reply.started": "2021-09-06T07:20:02.265255Z"
    },
    "id": "U0WtcVuXXYEl"
   },
   "outputs": [],
   "source": [
    "d = {}\n",
    "for x in labels :\n",
    "    d[x] = len(os.listdir(path+\"//\"+x))"
   ]
  },
  {
   "cell_type": "code",
   "execution_count": null,
   "metadata": {
    "execution": {
     "iopub.execute_input": "2021-09-06T07:20:06.292548Z",
     "iopub.status.busy": "2021-09-06T07:20:06.292200Z",
     "iopub.status.idle": "2021-09-06T07:20:06.298838Z",
     "shell.execute_reply": "2021-09-06T07:20:06.297803Z",
     "shell.execute_reply.started": "2021-09-06T07:20:06.292511Z"
    },
    "id": "3iJkY_CZXYEn",
    "outputId": "a18ca8d4-df57-4d6b-ce6f-ea9ea72582a0"
   },
   "outputs": [
    {
     "data": {
      "text/plain": [
       "39"
      ]
     },
     "execution_count": 6,
     "metadata": {},
     "output_type": "execute_result"
    }
   ],
   "source": [
    "len(d)"
   ]
  },
  {
   "cell_type": "code",
   "execution_count": null,
   "metadata": {
    "execution": {
     "iopub.execute_input": "2021-09-06T07:20:06.301046Z",
     "iopub.status.busy": "2021-09-06T07:20:06.300537Z",
     "iopub.status.idle": "2021-09-06T07:20:06.311764Z",
     "shell.execute_reply": "2021-09-06T07:20:06.310958Z",
     "shell.execute_reply.started": "2021-09-06T07:20:06.301005Z"
    },
    "id": "cYbmYiulXYEq",
    "outputId": "03efc8c9-7af4-44d9-e013-1e29c4c004da"
   },
   "outputs": [
    {
     "data": {
      "text/plain": [
       "{'Corn___Northern_Leaf_Blight': 1000,\n",
       " 'Tomato___Late_blight': 1909,\n",
       " 'Tomato___healthy': 1591,\n",
       " 'Grape___healthy': 1000,\n",
       " 'Orange___Haunglongbing_(Citrus_greening)': 5507,\n",
       " 'Soybean___healthy': 5090,\n",
       " 'Squash___Powdery_mildew': 1835,\n",
       " 'Background_without_leaves': 1143,\n",
       " 'Potato___healthy': 1000,\n",
       " 'Tomato___Early_blight': 1000,\n",
       " 'Tomato___Septoria_leaf_spot': 1771,\n",
       " 'Corn___healthy': 1162,\n",
       " 'Strawberry___Leaf_scorch': 1109,\n",
       " 'Peach___healthy': 1000,\n",
       " 'Apple___Apple_scab': 1000,\n",
       " 'Tomato___Tomato_Yellow_Leaf_Curl_Virus': 5357,\n",
       " 'Tomato___Bacterial_spot': 2127,\n",
       " 'Apple___Black_rot': 1000,\n",
       " 'Blueberry___healthy': 1502,\n",
       " 'Cherry___Powdery_mildew': 1052,\n",
       " 'Peach___Bacterial_spot': 2297,\n",
       " 'Apple___Cedar_apple_rust': 1000,\n",
       " 'Tomato___Target_Spot': 1404,\n",
       " 'Pepper,_bell___healthy': 1478,\n",
       " 'Grape___Leaf_blight_(Isariopsis_Leaf_Spot)': 1076,\n",
       " 'Potato___Late_blight': 1000,\n",
       " 'Corn___Cercospora_leaf_spot Gray_leaf_spot': 1000,\n",
       " 'Tomato___Tomato_mosaic_virus': 1000,\n",
       " 'Strawberry___healthy': 1000,\n",
       " 'Corn___Common_rust': 1192,\n",
       " 'Apple___healthy': 1645,\n",
       " 'Grape___Black_rot': 1180,\n",
       " 'Potato___Early_blight': 1000,\n",
       " 'Grape___Esca_(Black_Measles)': 1383,\n",
       " 'Raspberry___healthy': 1000,\n",
       " 'Tomato___Leaf_Mold': 1000,\n",
       " 'Cherry___healthy': 1000,\n",
       " 'Tomato___Spider_mites Two-spotted_spider_mite': 1676,\n",
       " 'Pepper,_bell___Bacterial_spot': 1000}"
      ]
     },
     "execution_count": 7,
     "metadata": {},
     "output_type": "execute_result"
    }
   ],
   "source": [
    "d"
   ]
  },
  {
   "cell_type": "code",
   "execution_count": null,
   "metadata": {},
   "outputs": [],
   "source": [
    "import numpy as np\n",
    "import pandas as pd "
   ]
  },
  {
   "cell_type": "code",
   "execution_count": null,
   "metadata": {},
   "outputs": [],
   "source": [
    "from tensorflow.keras.preprocessing.image import ImageDataGenerator, load_img\n",
    "from tensorflow.keras.utils import to_categorical\n",
    "from sklearn.model_selection import train_test_split"
   ]
  },
  {
   "cell_type": "code",
   "execution_count": null,
   "metadata": {
    "execution": {
     "iopub.execute_input": "2021-09-06T07:20:06.313319Z",
     "iopub.status.busy": "2021-09-06T07:20:06.312974Z",
     "iopub.status.idle": "2021-09-06T07:20:11.105857Z",
     "shell.execute_reply": "2021-09-06T07:20:11.104935Z",
     "shell.execute_reply.started": "2021-09-06T07:20:06.313284Z"
    },
    "id": "6dSs37ywXYEt"
   },
   "outputs": [],
   "source": [
    "import random\n",
    "import os\n",
    "import matplotlib.pyplot as plt\n"
   ]
  },
  {
   "cell_type": "code",
   "execution_count": null,
   "metadata": {
    "execution": {
     "iopub.execute_input": "2021-09-06T07:20:11.108828Z",
     "iopub.status.busy": "2021-09-06T07:20:11.108478Z",
     "iopub.status.idle": "2021-09-06T07:20:11.114483Z",
     "shell.execute_reply": "2021-09-06T07:20:11.112251Z",
     "shell.execute_reply.started": "2021-09-06T07:20:11.108792Z"
    },
    "id": "q14ML2JzXYEx"
   },
   "outputs": [],
   "source": [
    "\n",
    "filenames = os.listdir(\"../input/plant-leaves-colour/Plant_leave_diseases_dataset_with_augmentation\")\n"
   ]
  },
  {
   "cell_type": "code",
   "execution_count": null,
   "metadata": {},
   "outputs": [],
   "source": [
    "leaf_files = []\n",
    "lef_categories = []"
   ]
  },
  {
   "cell_type": "code",
   "execution_count": null,
   "metadata": {
    "execution": {
     "iopub.execute_input": "2021-09-06T07:20:11.117669Z",
     "iopub.status.busy": "2021-09-06T07:20:11.117174Z",
     "iopub.status.idle": "2021-09-06T07:20:11.212195Z",
     "shell.execute_reply": "2021-09-06T07:20:11.211343Z",
     "shell.execute_reply.started": "2021-09-06T07:20:11.117631Z"
    },
    "id": "PUNEkeJsXYE0"
   },
   "outputs": [],
   "source": [
    "for filename in filenames:\n",
    "    \n",
    "    filepath  = \"../input/plant-leaves-colour/Plant_leave_diseases_dataset_with_augmentation//\" + filename\n",
    "    \n",
    "    for x in os.listdir(file):\n",
    "        p = filepath +\"//\"+ x\n",
    "        leaf_files.append(p)\n",
    "        leaf_categories.append(filename)\n",
    "#         print(filename,p)\n",
    "    \n",
    "df = pd.DataFrame({\n",
    "    'filename': leaf_files,\n",
    "    'category': leaf_categories\n",
    "})"
   ]
  },
  {
   "cell_type": "code",
   "execution_count": null,
   "metadata": {
    "execution": {
     "iopub.execute_input": "2021-09-06T07:20:11.213936Z",
     "iopub.status.busy": "2021-09-06T07:20:11.213418Z",
     "iopub.status.idle": "2021-09-06T07:20:11.242984Z",
     "shell.execute_reply": "2021-09-06T07:20:11.242197Z",
     "shell.execute_reply.started": "2021-09-06T07:20:11.213893Z"
    },
    "id": "GYo1dPE5XYE3",
    "outputId": "a7f6f464-f7fe-4538-ae85-5c13795fba34"
   },
   "outputs": [
    {
     "data": {
      "text/html": [
       "<div>\n",
       "<style scoped>\n",
       "    .dataframe tbody tr th:only-of-type {\n",
       "        vertical-align: middle;\n",
       "    }\n",
       "\n",
       "    .dataframe tbody tr th {\n",
       "        vertical-align: top;\n",
       "    }\n",
       "\n",
       "    .dataframe thead th {\n",
       "        text-align: right;\n",
       "    }\n",
       "</style>\n",
       "<table border=\"1\" class=\"dataframe\">\n",
       "  <thead>\n",
       "    <tr style=\"text-align: right;\">\n",
       "      <th></th>\n",
       "      <th>filename</th>\n",
       "      <th>category</th>\n",
       "    </tr>\n",
       "  </thead>\n",
       "  <tbody>\n",
       "    <tr>\n",
       "      <th>0</th>\n",
       "      <td>../input/plant-leaves-colour/Plant_leave_disea...</td>\n",
       "      <td>Corn___Northern_Leaf_Blight</td>\n",
       "    </tr>\n",
       "    <tr>\n",
       "      <th>1</th>\n",
       "      <td>../input/plant-leaves-colour/Plant_leave_disea...</td>\n",
       "      <td>Corn___Northern_Leaf_Blight</td>\n",
       "    </tr>\n",
       "    <tr>\n",
       "      <th>2</th>\n",
       "      <td>../input/plant-leaves-colour/Plant_leave_disea...</td>\n",
       "      <td>Corn___Northern_Leaf_Blight</td>\n",
       "    </tr>\n",
       "    <tr>\n",
       "      <th>3</th>\n",
       "      <td>../input/plant-leaves-colour/Plant_leave_disea...</td>\n",
       "      <td>Corn___Northern_Leaf_Blight</td>\n",
       "    </tr>\n",
       "    <tr>\n",
       "      <th>4</th>\n",
       "      <td>../input/plant-leaves-colour/Plant_leave_disea...</td>\n",
       "      <td>Corn___Northern_Leaf_Blight</td>\n",
       "    </tr>\n",
       "  </tbody>\n",
       "</table>\n",
       "</div>"
      ],
      "text/plain": [
       "                                            filename  \\\n",
       "0  ../input/plant-leaves-colour/Plant_leave_disea...   \n",
       "1  ../input/plant-leaves-colour/Plant_leave_disea...   \n",
       "2  ../input/plant-leaves-colour/Plant_leave_disea...   \n",
       "3  ../input/plant-leaves-colour/Plant_leave_disea...   \n",
       "4  ../input/plant-leaves-colour/Plant_leave_disea...   \n",
       "\n",
       "                      category  \n",
       "0  Corn___Northern_Leaf_Blight  \n",
       "1  Corn___Northern_Leaf_Blight  \n",
       "2  Corn___Northern_Leaf_Blight  \n",
       "3  Corn___Northern_Leaf_Blight  \n",
       "4  Corn___Northern_Leaf_Blight  "
      ]
     },
     "execution_count": 11,
     "metadata": {},
     "output_type": "execute_result"
    }
   ],
   "source": [
    "df.head()"
   ]
  },
  {
   "cell_type": "code",
   "execution_count": null,
   "metadata": {
    "execution": {
     "iopub.execute_input": "2021-09-06T07:20:11.246127Z",
     "iopub.status.busy": "2021-09-06T07:20:11.245865Z",
     "iopub.status.idle": "2021-09-06T07:20:11.252161Z",
     "shell.execute_reply": "2021-09-06T07:20:11.251373Z",
     "shell.execute_reply.started": "2021-09-06T07:20:11.246101Z"
    },
    "id": "FX8TjonzXYE5"
   },
   "outputs": [],
   "source": [
    "IMAGE_SIZE = (224,224)"
   ]
  },
  {
   "cell_type": "code",
   "execution_count": null,
   "metadata": {},
   "outputs": [],
   "source": [
    "from tensorflow.keras.utils import to_categorical\n",
    "from tensorflow.keras import Model,Sequential, Input\n",
    "from tensorflow.keras.models import load_model"
   ]
  },
  {
   "cell_type": "code",
   "execution_count": null,
   "metadata": {},
   "outputs": [],
   "source": [
    "from tensorflow.keras.layers import BatchNormalization, Dense, MaxPool2D, Dropout, Conv2D, AveragePooling2D, GlobalAveragePooling2D,Flatten\n",
    "from tensorflow.keras.optimizers import Adam\n",
    "from tensorflow.keras.preprocessing.image import ImageDataGenerator"
   ]
  },
  {
   "cell_type": "code",
   "execution_count": null,
   "metadata": {
    "execution": {
     "iopub.execute_input": "2021-09-06T07:20:11.255524Z",
     "iopub.status.busy": "2021-09-06T07:20:11.255245Z",
     "iopub.status.idle": "2021-09-06T07:20:14.687244Z",
     "shell.execute_reply": "2021-09-06T07:20:14.686430Z",
     "shell.execute_reply.started": "2021-09-06T07:20:11.255498Z"
    },
    "id": "kg-BLfYfXYE6",
    "outputId": "b844ad04-4342-4fa0-fcff-52c944384cf7"
   },
   "outputs": [
    {
     "name": "stdout",
     "output_type": "stream",
     "text": [
      "Downloading data from https://storage.googleapis.com/tensorflow/keras-applications/mobilenet/mobilenet_1_0_224_tf_no_top.h5\n",
      "17227776/17225924 [==============================] - 0s 0us/step\n",
      "Model: \"model\"\n",
      "_________________________________________________________________\n",
      "Layer (type)                 Output Shape              Param #   \n",
      "=================================================================\n",
      "input_2 (InputLayer)         [(None, 224, 224, 3)]     0         \n",
      "_________________________________________________________________\n",
      "mobilenet_1.00_224 (Function (None, None, None, 1024)  3228864   \n",
      "_________________________________________________________________\n",
      "global_average_pooling2d (Gl (None, 1024)              0         \n",
      "_________________________________________________________________\n",
      "batch_normalization (BatchNo (None, 1024)              4096      \n",
      "_________________________________________________________________\n",
      "dropout (Dropout)            (None, 1024)              0         \n",
      "_________________________________________________________________\n",
      "dense (Dense)                (None, 256)               262400    \n",
      "_________________________________________________________________\n",
      "batch_normalization_1 (Batch (None, 256)               1024      \n",
      "_________________________________________________________________\n",
      "dropout_1 (Dropout)          (None, 256)               0         \n",
      "_________________________________________________________________\n",
      "root (Dense)                 (None, 39)                10023     \n",
      "=================================================================\n",
      "Total params: 3,506,407\n",
      "Trainable params: 3,481,959\n",
      "Non-trainable params: 24,448\n",
      "_________________________________________________________________\n"
     ]
    }
   ],
   "source": [
    "from tensorflow.keras.callbacks import ModelCheckpoint, ReduceLROnPlateau\n",
    "from tensorflow.keras.applications import MobileNet\n",
    "\n",
    "mob = MobileNet(weights='imagenet', include_top=False)\n",
    "\n",
    "inx = Input(shape=(224, 224, 3))\n",
    "\n",
    "inz = mob(inx)\n",
    "inz = GlobalAveragePooling2D()(inz)\n",
    "inz = BatchNormalization()(inz)\n",
    "inz = Dropout(0.5)(inz)\n",
    "inz = Dense(256, activation='relu')(inz)\n",
    "inz = BatchNormalization()(inz)\n",
    "inz = Dropout(0.5)(inz)\n",
    "\n",
    "    # multi output\n",
    "output = Dense(39,activation = 'softmax', name='root')(inz)\n",
    " \n",
    "model = Model(inx,output)\n",
    "    \n",
    "optimizer = Adam(lr=0.002, beta_1=0.9, beta_2=0.999, epsilon=0.1, decay=0.0)\n",
    "model.compile(loss='categorical_crossentropy', optimizer=optimizer, metrics=['accuracy'])\n",
    "model.summary()\n",
    "    "
   ]
  },
  {
   "cell_type": "code",
   "execution_count": null,
   "metadata": {
    "execution": {
     "iopub.execute_input": "2021-09-06T07:20:14.689689Z",
     "iopub.status.busy": "2021-09-06T07:20:14.689372Z",
     "iopub.status.idle": "2021-09-06T07:20:14.695391Z",
     "shell.execute_reply": "2021-09-06T07:20:14.694164Z",
     "shell.execute_reply.started": "2021-09-06T07:20:14.689655Z"
    },
    "id": "zXtVkyDEXYE8"
   },
   "outputs": [],
   "source": [
    "redz = ReduceLROnPlateau(monitor='val_accuracy', factor=0.5, patience=5, verbose=1, min_lr=1e-3)\n",
    "check_point1 = ModelCheckpoint('model_2.h5', verbose=1, save_best_only=True)"
   ]
  },
  {
   "cell_type": "code",
   "execution_count": null,
   "metadata": {
    "execution": {
     "iopub.execute_input": "2021-09-06T07:20:14.697259Z",
     "iopub.status.busy": "2021-09-06T07:20:14.696742Z",
     "iopub.status.idle": "2021-09-06T07:20:15.322912Z",
     "shell.execute_reply": "2021-09-06T07:20:15.321997Z",
     "shell.execute_reply.started": "2021-09-06T07:20:14.697220Z"
    },
    "id": "f2hSpTSMXYE-",
    "outputId": "a6e64531-e205-4163-d44a-a18c8d86c797"
   },
   "outputs": [
    {
     "data": {
      "text/plain": [
       "<AxesSubplot:>"
      ]
     },
     "execution_count": 15,
     "metadata": {},
     "output_type": "execute_result"
    },
    {
     "data": {
      "image/png": "[encoded data removed]",
      "text/plain": [
       "<Figure size 1440x1440 with 1 Axes>"
      ]
     },
     "metadata": {
      "needs_background": "light"
     },
     "output_type": "display_data"
    }
   ],
   "source": [
    "train_z, validate_z = train_test_split(df, test_size=0.20, random_state=42)\n",
    "train_z= train_z.reset_index(drop=True)\n",
    "validate_z = validate_z.reset_index(drop=True)\n",
    "train_z.head()\n",
    "plt.figure(figsize = (20,20))\n",
    "train_z['category'].value_counts().plot.bar()"
   ]
  },
  {
   "cell_type": "code",
   "execution_count": null,
   "metadata": {
    "execution": {
     "iopub.execute_input": "2021-09-06T07:20:15.324311Z",
     "iopub.status.busy": "2021-09-06T07:20:15.324005Z",
     "iopub.status.idle": "2021-09-06T07:20:15.329239Z",
     "shell.execute_reply": "2021-09-06T07:20:15.328268Z",
     "shell.execute_reply.started": "2021-09-06T07:20:15.324278Z"
    },
    "id": "rsKUfwzFXYE_"
   },
   "outputs": [],
   "source": [
    "total_train = train_z.shape[0]\n",
    "total_validation = validate_z.shape[0]\n",
    "batch_size = 64"
   ]
  },
  {
   "cell_type": "code",
   "execution_count": null,
   "metadata": {
    "execution": {
     "iopub.execute_input": "2021-09-06T07:20:15.331313Z",
     "iopub.status.busy": "2021-09-06T07:20:15.330914Z",
     "iopub.status.idle": "2021-09-06T07:20:42.863034Z",
     "shell.execute_reply": "2021-09-06T07:20:42.861573Z",
     "shell.execute_reply.started": "2021-09-06T07:20:15.331272Z"
    },
    "id": "hYJCFwBiXYFA",
    "outputId": "4c77dcc6-9831-467f-cadc-6fd706ee608b"
   },
   "outputs": [
    {
     "name": "stdout",
     "output_type": "stream",
     "text": [
      "Found 49188 validated image filenames belonging to 39 classes.\n"
     ]
    }
   ],
   "source": [
    "t_datagenerator = ImageDataGenerator(\n",
    "    \n",
    "    rotation_range=15,\n",
    "    rescale=1./255,\n",
    "    shear_range=0.1,\n",
    "    zoom_range=0.2,\n",
    "    horizontal_flip=True,\n",
    "    width_shift_range=0.1,\n",
    "    validation_split=0.2,\n",
    "    height_shift_range=0.1\n",
    ")\n",
    "\n",
    "t_generator = t_datagenerator.flow_from_dataframe(\n",
    "    train_z, \n",
    "    x_col='filename',\n",
    "    y_col='category',\n",
    "    target_size=IMAGE_SIZE,\n",
    "    class_mode='categorical',\n",
    "    batch_size=batch_size\n",
    ")\n"
   ]
  },
  {
   "cell_type": "code",
   "execution_count": null,
   "metadata": {
    "execution": {
     "iopub.execute_input": "2021-09-06T07:20:42.864675Z",
     "iopub.status.busy": "2021-09-06T07:20:42.864327Z",
     "iopub.status.idle": "2021-09-06T07:20:49.835954Z",
     "shell.execute_reply": "2021-09-06T07:20:49.835085Z",
     "shell.execute_reply.started": "2021-09-06T07:20:42.864636Z"
    },
    "id": "rAVttYQ0XYFC",
    "outputId": "28acf54c-6aa1-4fdc-aed0-4c05bd96db0e"
   },
   "outputs": [
    {
     "name": "stdout",
     "output_type": "stream",
     "text": [
      "Found 12298 validated image filenames belonging to 39 classes.\n"
     ]
    }
   ],
   "source": [
    "v_datagenerator = ImageDataGenerator(rescale=1/255)\n",
    "\n",
    "v_generator = v_datagenerator.flow_from_dataframe(\n",
    "    validate_z, \n",
    "    \n",
    "    x_col='filename',\n",
    "    y_col='category',\n",
    "    target_size=IMAGE_SIZE,\n",
    "    class_mode='categorical',\n",
    "    batch_size=batch_size\n",
    "   \n",
    ")"
   ]
  },
  {
   "cell_type": "code",
   "execution_count": null,
   "metadata": {
    "execution": {
     "iopub.execute_input": "2021-09-06T07:20:49.837633Z",
     "iopub.status.busy": "2021-09-06T07:20:49.837144Z",
     "iopub.status.idle": "2021-09-06T07:20:49.845848Z",
     "shell.execute_reply": "2021-09-06T07:20:49.845081Z",
     "shell.execute_reply.started": "2021-09-06T07:20:49.837593Z"
    },
    "id": "G3bx1dFjXYFD",
    "outputId": "af98ff8c-112a-4f13-b8fb-6a64e957908a"
   },
   "outputs": [
    {
     "data": {
      "text/plain": [
       "{'Apple___Apple_scab': 0,\n",
       " 'Apple___Black_rot': 1,\n",
       " 'Apple___Cedar_apple_rust': 2,\n",
       " 'Apple___healthy': 3,\n",
       " 'Background_without_leaves': 4,\n",
       " 'Blueberry___healthy': 5,\n",
       " 'Cherry___Powdery_mildew': 6,\n",
       " 'Cherry___healthy': 7,\n",
       " 'Corn___Cercospora_leaf_spot Gray_leaf_spot': 8,\n",
       " 'Corn___Common_rust': 9,\n",
       " 'Corn___Northern_Leaf_Blight': 10,\n",
       " 'Corn___healthy': 11,\n",
       " 'Grape___Black_rot': 12,\n",
       " 'Grape___Esca_(Black_Measles)': 13,\n",
       " 'Grape___Leaf_blight_(Isariopsis_Leaf_Spot)': 14,\n",
       " 'Grape___healthy': 15,\n",
       " 'Orange___Haunglongbing_(Citrus_greening)': 16,\n",
       " 'Peach___Bacterial_spot': 17,\n",
       " 'Peach___healthy': 18,\n",
       " 'Pepper,_bell___Bacterial_spot': 19,\n",
       " 'Pepper,_bell___healthy': 20,\n",
       " 'Potato___Early_blight': 21,\n",
       " 'Potato___Late_blight': 22,\n",
       " 'Potato___healthy': 23,\n",
       " 'Raspberry___healthy': 24,\n",
       " 'Soybean___healthy': 25,\n",
       " 'Squash___Powdery_mildew': 26,\n",
       " 'Strawberry___Leaf_scorch': 27,\n",
       " 'Strawberry___healthy': 28,\n",
       " 'Tomato___Bacterial_spot': 29,\n",
       " 'Tomato___Early_blight': 30,\n",
       " 'Tomato___Late_blight': 31,\n",
       " 'Tomato___Leaf_Mold': 32,\n",
       " 'Tomato___Septoria_leaf_spot': 33,\n",
       " 'Tomato___Spider_mites Two-spotted_spider_mite': 34,\n",
       " 'Tomato___Target_Spot': 35,\n",
       " 'Tomato___Tomato_Yellow_Leaf_Curl_Virus': 36,\n",
       " 'Tomato___Tomato_mosaic_virus': 37,\n",
       " 'Tomato___healthy': 38}"
      ]
     },
     "execution_count": 19,
     "metadata": {},
     "output_type": "execute_result"
    }
   ],
   "source": [
    "t_generator.class_indices"
   ]
  },
  {
   "cell_type": "code",
   "execution_count": null,
   "metadata": {
    "execution": {
     "iopub.execute_input": "2021-09-06T07:20:49.847700Z",
     "iopub.status.busy": "2021-09-06T07:20:49.847147Z",
     "iopub.status.idle": "2021-09-06T12:40:13.964616Z",
     "shell.execute_reply": "2021-09-06T12:40:13.963662Z",
     "shell.execute_reply.started": "2021-09-06T07:20:49.847661Z"
    },
    "id": "7P86li5RXYFF",
    "outputId": "099cc426-9c32-46b7-ebf5-28cbc9c6a89c"
   },
   "outputs": [
    {
     "name": "stderr",
     "output_type": "stream",
     "text": [
      "/opt/conda/lib/python3.7/site-packages/tensorflow/python/keras/engine/training.py:1844: UserWarning: `Model.fit_generator` is deprecated and will be removed in a future version. Please use `Model.fit`, which supports generators.\n",
      "  warnings.warn('`Model.fit_generator` is deprecated and '\n"
     ]
    },
    {
     "name": "stdout",
     "output_type": "stream",
     "text": [
      "Epoch 1/25\n",
      "768/768 [==============================] - 855s 1s/step - loss: 2.3419 - accuracy: 0.4607 - val_loss: 0.1701 - val_accuracy: 0.9509\n",
      "\n",
      "Epoch 00001: val_loss improved from inf to 0.17014, saving model to model_2.h5\n",
      "Epoch 2/25\n",
      "768/768 [==============================] - 766s 997ms/step - loss: 0.2633 - accuracy: 0.9223 - val_loss: 0.0752 - val_accuracy: 0.9768\n",
      "\n",
      "Epoch 00002: val_loss improved from 0.17014 to 0.07524, saving model to model_2.h5\n",
      "Epoch 3/25\n",
      "768/768 [==============================] - 767s 999ms/step - loss: 0.1411 - accuracy: 0.9583 - val_loss: 0.0418 - val_accuracy: 0.9870\n",
      "\n",
      "Epoch 00003: val_loss improved from 0.07524 to 0.04185, saving model to model_2.h5\n",
      "Epoch 4/25\n",
      "768/768 [==============================] - 747s 972ms/step - loss: 0.0896 - accuracy: 0.9749 - val_loss: 0.0359 - val_accuracy: 0.9889\n",
      "\n",
      "Epoch 00004: val_loss improved from 0.04185 to 0.03592, saving model to model_2.h5\n",
      "Epoch 5/25\n",
      "768/768 [==============================] - 753s 981ms/step - loss: 0.0666 - accuracy: 0.9815 - val_loss: 0.0354 - val_accuracy: 0.9888\n",
      "\n",
      "Epoch 00005: val_loss improved from 0.03592 to 0.03538, saving model to model_2.h5\n",
      "Epoch 6/25\n",
      "768/768 [==============================] - 758s 987ms/step - loss: 0.0521 - accuracy: 0.9848 - val_loss: 0.0250 - val_accuracy: 0.9919\n",
      "\n",
      "Epoch 00006: val_loss improved from 0.03538 to 0.02498, saving model to model_2.h5\n",
      "Epoch 7/25\n",
      "768/768 [==============================] - 748s 974ms/step - loss: 0.0459 - accuracy: 0.9873 - val_loss: 0.0226 - val_accuracy: 0.9925\n",
      "\n",
      "Epoch 00007: val_loss improved from 0.02498 to 0.02263, saving model to model_2.h5\n",
      "Epoch 8/25\n",
      "768/768 [==============================] - 752s 979ms/step - loss: 0.0398 - accuracy: 0.9889 - val_loss: 0.0180 - val_accuracy: 0.9946\n",
      "\n",
      "Epoch 00008: val_loss improved from 0.02263 to 0.01796, saving model to model_2.h5\n",
      "Epoch 9/25\n",
      "768/768 [==============================] - 764s 995ms/step - loss: 0.0359 - accuracy: 0.9897 - val_loss: 0.0196 - val_accuracy: 0.9934\n",
      "\n",
      "Epoch 00009: val_loss did not improve from 0.01796\n",
      "Epoch 10/25\n",
      "768/768 [==============================] - 761s 991ms/step - loss: 0.0292 - accuracy: 0.9917 - val_loss: 0.0178 - val_accuracy: 0.9942\n",
      "\n",
      "Epoch 00010: val_loss improved from 0.01796 to 0.01782, saving model to model_2.h5\n",
      "Epoch 11/25\n",
      "768/768 [==============================] - 742s 966ms/step - loss: 0.0290 - accuracy: 0.9909 - val_loss: 0.0178 - val_accuracy: 0.9938\n",
      "\n",
      "Epoch 00011: val_loss improved from 0.01782 to 0.01782, saving model to model_2.h5\n",
      "Epoch 12/25\n",
      "768/768 [==============================] - 770s 1s/step - loss: 0.0244 - accuracy: 0.9930 - val_loss: 0.0176 - val_accuracy: 0.9945\n",
      "\n",
      "Epoch 00012: val_loss improved from 0.01782 to 0.01760, saving model to model_2.h5\n",
      "Epoch 13/25\n",
      "768/768 [==============================] - 731s 952ms/step - loss: 0.0223 - accuracy: 0.9937 - val_loss: 0.0147 - val_accuracy: 0.9952\n",
      "\n",
      "Epoch 00013: val_loss improved from 0.01760 to 0.01473, saving model to model_2.h5\n",
      "Epoch 14/25\n",
      "768/768 [==============================] - 733s 955ms/step - loss: 0.0202 - accuracy: 0.9942 - val_loss: 0.0150 - val_accuracy: 0.9948\n",
      "\n",
      "Epoch 00014: val_loss did not improve from 0.01473\n",
      "Epoch 15/25\n",
      "768/768 [==============================] - 754s 982ms/step - loss: 0.0197 - accuracy: 0.9949 - val_loss: 0.0141 - val_accuracy: 0.9954\n",
      "\n",
      "Epoch 00015: val_loss improved from 0.01473 to 0.01412, saving model to model_2.h5\n",
      "Epoch 16/25\n",
      "768/768 [==============================] - 780s 1s/step - loss: 0.0177 - accuracy: 0.9953 - val_loss: 0.0145 - val_accuracy: 0.9950\n",
      "\n",
      "Epoch 00016: val_loss did not improve from 0.01412\n",
      "Epoch 17/25\n",
      "768/768 [==============================] - 773s 1s/step - loss: 0.0152 - accuracy: 0.9959 - val_loss: 0.0116 - val_accuracy: 0.9964\n",
      "\n",
      "Epoch 00017: val_loss improved from 0.01412 to 0.01163, saving model to model_2.h5\n",
      "Epoch 18/25\n",
      "768/768 [==============================] - 779s 1s/step - loss: 0.0161 - accuracy: 0.9956 - val_loss: 0.0137 - val_accuracy: 0.9955\n",
      "\n",
      "Epoch 00018: val_loss did not improve from 0.01163\n",
      "Epoch 19/25\n",
      "768/768 [==============================] - 771s 1s/step - loss: 0.0132 - accuracy: 0.9963 - val_loss: 0.0133 - val_accuracy: 0.9957\n",
      "\n",
      "Epoch 00019: val_loss did not improve from 0.01163\n",
      "Epoch 20/25\n",
      "768/768 [==============================] - 778s 1s/step - loss: 0.0126 - accuracy: 0.9964 - val_loss: 0.0122 - val_accuracy: 0.9963\n",
      "\n",
      "Epoch 00020: val_loss did not improve from 0.01163\n",
      "Epoch 21/25\n",
      "768/768 [==============================] - 749s 975ms/step - loss: 0.0127 - accuracy: 0.9966 - val_loss: 0.0118 - val_accuracy: 0.9959\n",
      "\n",
      "Epoch 00021: val_loss did not improve from 0.01163\n",
      "Epoch 22/25\n",
      "768/768 [==============================] - 754s 982ms/step - loss: 0.0116 - accuracy: 0.9969 - val_loss: 0.0141 - val_accuracy: 0.9949\n",
      "\n",
      "Epoch 00022: ReduceLROnPlateau reducing learning rate to 0.0010000000474974513.\n",
      "\n",
      "Epoch 00022: val_loss did not improve from 0.01163\n",
      "Epoch 23/25\n",
      "768/768 [==============================] - 783s 1s/step - loss: 0.0102 - accuracy: 0.9973 - val_loss: 0.0101 - val_accuracy: 0.9969\n",
      "\n",
      "Epoch 00023: val_loss improved from 0.01163 to 0.01005, saving model to model_2.h5\n",
      "Epoch 24/25\n",
      "768/768 [==============================] - 796s 1s/step - loss: 0.0094 - accuracy: 0.9971 - val_loss: 0.0104 - val_accuracy: 0.9958\n",
      "\n",
      "Epoch 00024: val_loss did not improve from 0.01005\n",
      "Epoch 25/25\n",
      "768/768 [==============================] - 792s 1s/step - loss: 0.0097 - accuracy: 0.9974 - val_loss: 0.0097 - val_accuracy: 0.9968\n",
      "\n",
      "Epoch 00025: val_loss improved from 0.01005 to 0.00974, saving model to model_2.h5\n"
     ]
    }
   ],
   "source": [
    "epochs=25\n",
    "\n",
    "\n",
    "modelhistory = model.fit_generator(\n",
    "    t_generator, \n",
    "    epochs=epochs,\n",
    "    validation_data=v_generator,\n",
    "    validation_stps=total_validation//batch_size,\n",
    "    steps_per_epoch=total_train//batch_size,callbacks=[redz, check_point1])\n",
    "    \n"
   ]
  },
  {
   "cell_type": "code",
   "execution_count": null,
   "metadata": {
    "execution": {
     "iopub.execute_input": "2021-09-06T12:40:13.966684Z",
     "iopub.status.busy": "2021-09-06T12:40:13.966332Z",
     "iopub.status.idle": "2021-09-06T12:40:14.112699Z",
     "shell.execute_reply": "2021-09-06T12:40:14.111789Z",
     "shell.execute_reply.started": "2021-09-06T12:40:13.966649Z"
    },
    "id": "DwT1PXOnXYFH",
    "outputId": "b6ab193a-f87b-4e37-eec3-32be23fa451f"
   },
   "outputs": [
    {
     "data": {
      "image/png": "[encoded data removed]",
      "text/plain": [
       "<Figure size 432x288 with 1 Axes>"
      ]
     },
     "metadata": {
      "needs_background": "light"
     },
     "output_type": "display_data"
    }
   ],
   "source": [
    "plt.plot(modelhistory.history['accuracy'])\n",
    "plt.plot(modelhistory.history['val_accuracy'])\n",
    "plt.title('model accuracy')\n",
    "plt.ylabel('accuracy') \n",
    "plt.xlabel('epoch')\n",
    "plt.legend(['train', 'test'], loc='upper left')\n",
    "plt.show()"
   ]
  },
  {
   "cell_type": "code",
   "execution_count": null,
   "metadata": {
    "execution": {
     "iopub.execute_input": "2021-09-06T12:40:14.114424Z",
     "iopub.status.busy": "2021-09-06T12:40:14.114092Z",
     "iopub.status.idle": "2021-09-06T12:40:14.264347Z",
     "shell.execute_reply": "2021-09-06T12:40:14.263357Z",
     "shell.execute_reply.started": "2021-09-06T12:40:14.114388Z"
    },
    "id": "5p-aKiM-XYFI",
    "outputId": "264d932f-772d-4a97-e082-86a3d2fc4320"
   },
   "outputs": [
    {
     "data": {
      "image/png": "[encoded data removed]",
      "text/plain": [
       "<Figure size 432x288 with 1 Axes>"
      ]
     },
     "metadata": {
      "needs_background": "light"
     },
     "output_type": "display_data"
    }
   ],
   "source": [
    "# loss plot\n",
    "plt.plot(modelhistory.history['loss'])\n",
    "plt.plot(modelhistory.history['val_loss'])\n",
    "plt.title('model loss')\n",
    "plt.ylabel('loss')\n",
    "plt.xlabel('epoch')\n",
    "plt.legend(['train', 'test'], loc='upper left')\n",
    "plt.show()"
   ]
  },
  {
   "cell_type": "code",
   "execution_count": null,
   "metadata": {
    "execution": {
     "iopub.execute_input": "2021-09-06T12:40:14.266247Z",
     "iopub.status.busy": "2021-09-06T12:40:14.265884Z",
     "iopub.status.idle": "2021-09-06T12:40:14.629490Z",
     "shell.execute_reply": "2021-09-06T12:40:14.628596Z",
     "shell.execute_reply.started": "2021-09-06T12:40:14.266207Z"
    },
    "id": "2sm64MYKXYFK"
   },
   "outputs": [],
   "source": [
    "model.save_weights(\"plant(w).h5\")\n",
    "model.save(\"plant(m).h5\")"
   ]
  },
  {
   "cell_type": "code",
   "execution_count": null,
   "metadata": {
    "execution": {
     "iopub.execute_input": "2021-09-06T12:40:14.633288Z",
     "iopub.status.busy": "2021-09-06T12:40:14.632972Z"
    },
    "id": "s6KISfJIXYFL",
    "outputId": "41323152-a889-427e-97b0-4ce53e02fe6c"
   },
   "outputs": [
    {
     "name": "stderr",
     "output_type": "stream",
     "text": [
      " 82%|████████▏ | 10043/12298 [14:25<03:16, 11.45it/s]"
     ]
    }
   ],
   "source": [
    "d = t_generator.class_indices\n",
    "\n",
    "import cv2\n",
    "from tqdm import tqdm\n",
    "from skimage.transform import resize\n",
    "pred = []\n",
    "y_true = []\n",
    "for f in tqdm(range(len(validate_z))) :\n",
    "#     print(validate[\"filename\"][f])\n",
    "    x = cv2.imread(validate_z[\"filename\"][f], cv2.IMREAD_COLOR)\n",
    "    \n",
    "        \n",
    "    x = cv2.cvtColor(x, cv2.COLOR_BGR2RGB)\n",
    "#     print(type(x))\n",
    "#     print(x.shape)\n",
    "    x = resize(x, IMAGE_SIZE)\n",
    "#     print(x.shape)\n",
    "#     print(x)\n",
    "\n",
    "    x = x.astype(np.float32)\n",
    "#     print(\"aaa\",x)\n",
    "#     print(x.shape)\n",
    "    x = x.reshape((1,224,224,3))\n",
    "\n",
    "    pred.append(np.argmax(model.predict([x])[0]))\n",
    "#     print(d[validate[\"category\"][f]])\n",
    "    y_true.append(d[validate_z[\"category\"][f]])\n",
    "    \n",
    "\n",
    "labels = list(t_generator.class_indices.keys())"
   ]
  },
  {
   "cell_type": "code",
   "execution_count": null,
   "metadata": {
    "id": "_zVaGH1TXYFN"
   },
   "outputs": [],
   "source": [
    "from sklearn.metrics import confusion_matrix\n",
    "import seaborn as sns\n",
    "cm = confusion_matrix(y_true, pred)\n",
    "plt.figure(figsize=(20,20))\n",
    "ax = sns.heatmap(cm, cmap=plt.cm.Greens, annot=True, square=True, xticklabels=labels, yticklabels=labels)\n",
    "ax.set_ylabel('Actual', fontsize=40)\n",
    "ax.set_xlabel('Predicted', fontsize=40)\n"
   ]
  },
  {
   "cell_type": "code",
   "execution_count": null,
   "metadata": {
    "id": "CRWGte2IXYFO"
   },
   "outputs": [],
   "source": []
  }
 ],
 "metadata": {
  "colab": {
   "name": "Mobilenet Ep25 .ipynb",
   "provenance": []
  },
  "kernelspec": {
   "display_name": "Python 3",
   "language": "python",
   "name": "python3"
  },
  "language_info": {
   "codemirror_mode": {
    "name": "ipython",
    "version": 3
   },
   "file_extension": ".py",
   "mimetype": "text/x-python",
   "name": "python",
   "nbconvert_exporter": "python",
   "pygments_lexer": "ipython3",
   "version": "3.8.8"
  }
 },
 "nbformat": 4,
 "nbformat_minor": 1
}
